{
  "nbformat": 4,
  "nbformat_minor": 0,
  "metadata": {
    "colab": {
      "provenance": [],
      "include_colab_link": true
    },
    "kernelspec": {
      "name": "python3",
      "display_name": "Python 3"
    },
    "language_info": {
      "name": "python"
    }
  },
  "cells": [
    {
      "cell_type": "markdown",
      "metadata": {
        "id": "view-in-github",
        "colab_type": "text"
      },
      "source": [
        "<a href=\"https://colab.research.google.com/github/ataslanmonteiro/Mini_Projeto_Ataslan_Camily_PHantomInjury/blob/main/Mini_Projeto_Ataslan_Camily_PHantomInjury.ipynb\" target=\"_parent\"><img src=\"https://colab.research.google.com/assets/colab-badge.svg\" alt=\"Open In Colab\"/></a>"
      ]
    },
    {
      "cell_type": "markdown",
      "source": [
        "# Mini Porjeto - **Loja de Informática**\n",
        "\n",
        "Cada equipe deverá pensar em um sistema que tenha na mínimo as seguintes funcionalidades:\n",
        "\n",
        "O seu sistema deve manipular uma Lista/Dicionario/Tupla\n",
        "<br>Sistema deve permitir o usuário fazer CRUD <br>\n",
        "<br>Create: Criar/Inserir<br>\n",
        "<br>Read: Ler/Listar<br>\n",
        "<br>Update: Atualizar/Alterar<br>\n",
        "<br>Delete: Apagar/Remover<br>"
      ],
      "metadata": {
        "id": "a0Q_ozQZ9hSv"
      }
    },
    {
      "cell_type": "code",
      "source": [
        "# Sistema de uma loja de infformática\n",
        "# Lista para armazenar os produtos da loja = []\n",
        "\n",
        "# Sistema de Loja de Informática\n",
        "\n",
        "# Lista para armazenar os produtos\n",
        "produtos = []\n",
        "\n",
        "# Função para criar/inserir um novo produto\n",
        "def criar_produto(codigo, nome, preco):\n",
        "    produtos.append((codigo, nome, preco))\n",
        "    print(f\"Produto {nome} inserido com sucesso!\")\n",
        "\n",
        "# Função para ler/listar todos os produtos\n",
        "def listar_produtos():\n",
        "    if produtos:\n",
        "        for produto in produtos:\n",
        "            print(f\"Código: {produto[0]}, Nome: {produto[1]}, Preço: R${produto[2]:.2f}\")\n",
        "    else:\n",
        "        print(\"Nenhum produto cadastrado.\")\n",
        "\n",
        "# Função para atualizar/alterar um produto existente\n",
        "def atualizar_produto(codigo, nome=None, preco=None):\n",
        "    for i, produto in enumerate(produtos):\n",
        "        if produto[0] == codigo:\n",
        "            novo_nome = nome if nome else produto[1]\n",
        "            novo_preco = preco if preco else produto[2]\n",
        "            produtos[i] = (codigo, novo_nome, novo_preco)\n",
        "            print(f\"Produto {codigo} atualizado com sucesso!\")\n",
        "            return\n",
        "    print(\"Produto não encontrado.\")\n",
        "\n",
        "# Função para apagar/remover um produto\n",
        "def remover_produto(codigo):\n",
        "    for i, produto in enumerate(produtos):\n",
        "        if produto[0] == codigo:\n",
        "            del produtos[i]\n",
        "            print(f\"Produto {codigo} removido com sucesso!\")\n",
        "            return\n",
        "    print(\"Produto não encontrado.\")\n",
        "\n",
        "# Função para exibir o menu e capturar a escolha do usuário\n",
        "def menu():\n",
        "    while True:\n",
        "        print(\"\\nSistema de Loja de Informática\")\n",
        "        print(\"1. Inserir produto\")\n",
        "        print(\"2. Listar produtos\")\n",
        "        print(\"3. Atualizar produto\")\n",
        "        print(\"4. Remover produto\")\n",
        "        print(\"5. Sair\")\n",
        "\n",
        "        escolha = input(\"Escolha uma opção: \")\n",
        "\n",
        "        if escolha == '1':\n",
        "            codigo = int(input(\"Digite o código do produto: \"))\n",
        "            nome = input(\"Digite o nome do produto: \")\n",
        "            preco = float(input(\"Digite o preço do produto: \"))\n",
        "            criar_produto(codigo, nome, preco)\n",
        "        elif escolha == '2':\n",
        "            listar_produtos()\n",
        "        elif escolha == '3':\n",
        "            codigo = int(input(\"Digite o código do produto a ser atualizado: \"))\n",
        "            nome = input(\"Digite o novo nome do produto (ou deixe em branco para não alterar): \")\n",
        "            preco = input(\"Digite o novo preço do produto (ou deixe em branco para não alterar): \")\n",
        "            preco = float(preco) if preco else None\n",
        "            atualizar_produto(codigo, nome if nome else None, preco)\n",
        "        elif escolha == '4':\n",
        "            codigo = int(input(\"Digite o código do produto a ser removido: \"))\n",
        "            remover_produto(codigo)\n",
        "        elif escolha == '5':\n",
        "            print(\"Saindo do sistema...\")\n",
        "            break\n",
        "        else:\n",
        "            print(\"Opção inválida. Tente novamente.\")\n",
        "\n",
        "# Executar o menu\n",
        "menu()\n"
      ],
      "metadata": {
        "id": "PUSbG10X-AC8"
      },
      "execution_count": null,
      "outputs": []
    }
  ]
}